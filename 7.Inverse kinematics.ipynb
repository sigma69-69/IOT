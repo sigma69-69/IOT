{
 "cells": [
  {
   "cell_type": "code",
   "execution_count": 6,
   "id": "5e733db2",
   "metadata": {},
   "outputs": [
    {
     "name": "stdout",
     "output_type": "stream",
     "text": [
      "The joint angles are (-0.4828831227044705, 2.0943951023931957) in radians\n"
     ]
    }
   ],
   "source": [
    "import numpy as np\n",
    "# Define the end effector position\n",
    "x = 1.5\n",
    "y = 0.5\n",
    "# Define the link lengths\n",
    "L1 = 2\n",
    "L2 = 1.5\n",
    "# Calculate the joint angles using inverse kinematics\n",
    "theta2 = np.arccos((x*2 + y*2 - L1*2 - L2*2) / (2 * L1 * L2))\n",
    "theta1 = np.arctan2(y, x) - np.arctan2(L2 * np.sin(theta2), L1 + L2 * np.cos(theta2))\n",
    "print(f\"The joint angles are ({theta1}, {theta2}) in radians\")"
   ]
  }
 ],
 "metadata": {
  "kernelspec": {
   "display_name": "Python 3 (ipykernel)",
   "language": "python",
   "name": "python3"
  },
  "language_info": {
   "codemirror_mode": {
    "name": "ipython",
    "version": 3
   },
   "file_extension": ".py",
   "mimetype": "text/x-python",
   "name": "python",
   "nbconvert_exporter": "python",
   "pygments_lexer": "ipython3",
   "version": "3.10.10"
  }
 },
 "nbformat": 4,
 "nbformat_minor": 5
}
