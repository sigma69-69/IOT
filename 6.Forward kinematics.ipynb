{
 "cells": [
  {
   "cell_type": "code",
   "execution_count": 2,
   "id": "02057222",
   "metadata": {},
   "outputs": [
    {
     "name": "stdout",
     "output_type": "stream",
     "text": [
      "The end effector position is (1.0596192034428373, 2.8024421300268756)\n"
     ]
    }
   ],
   "source": [
    "import numpy as np\n",
    "theta1 = np.pi/6\n",
    "theta2 = np.pi/4\n",
    "theta3 = np.pi/3\n",
    "theta4 = np.pi/2\n",
    "L1 = 2\n",
    "L2 = 1.5\n",
    "L3 = 1\n",
    "L4 = 0.5\n",
    "x = L1*np.cos(theta1) + L2*np.cos(theta1+theta2) + L3*np.cos(theta1+theta2+theta3) + L4*np.cos(theta1+theta2+theta3+theta4)\n",
    "y = L1*np.sin(theta1) + L2*np.sin(theta1+theta2) + L3*np.sin(theta1+theta2+theta3) + L4*np.sin(theta1+theta2+theta3+theta4)\n",
    "print(f\"The end effector position is ({x}, {y})\")"
   ]
  }
 ],
 "metadata": {
  "kernelspec": {
   "display_name": "Python 3 (ipykernel)",
   "language": "python",
   "name": "python3"
  },
  "language_info": {
   "codemirror_mode": {
    "name": "ipython",
    "version": 3
   },
   "file_extension": ".py",
   "mimetype": "text/x-python",
   "name": "python",
   "nbconvert_exporter": "python",
   "pygments_lexer": "ipython3",
   "version": "3.10.10"
  }
 },
 "nbformat": 4,
 "nbformat_minor": 5
}
